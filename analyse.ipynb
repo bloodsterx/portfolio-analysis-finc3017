{
 "cells": [
  {
   "cell_type": "code",
   "execution_count": 1,
   "id": "0817b9ca",
   "metadata": {},
   "outputs": [],
   "source": [
    "import numpy as np\n",
    "import polars as pl\n",
    "from scipy.optimize import minimize"
   ]
  },
  {
   "cell_type": "code",
   "execution_count": null,
   "id": "a2c1e7ca",
   "metadata": {},
   "outputs": [
    {
     "name": "stdout",
     "output_type": "stream",
     "text": [
      "[ 0.0329253056  0.0153364861 -0.0038536389  0.0116588611  0.0112193889\n",
      "  0.0066705278  0.0075910278  0.0231497361  0.0098583056  0.0030936111\n",
      "  0.0109475833  0.0160801667  0.0129607778 -0.0000780556  0.0060730972\n",
      "  0.0010899861  0.0145139444  0.0147293056  0.01071725    0.0190900278]\n"
     ]
    }
   ],
   "source": [
    "# Assume your data: replace with your actual 20x20 cov matrix and 20x1 mean vector\n",
    "with open(\"cov_m.csv\") as f:\n",
    "    df = pl.read_csv(\"cov_m.csv\")\n",
    "\n",
    "lf_sigma = [row[1:] for row in df.iter_rows()]\n",
    "Sigma = np.array(lf_sigma)\n",
    "shape = Sigma.shape\n",
    "df_returns = pl.read_csv(\"Part_B_Data_530521305.csv\", skip_rows=1)\n",
    "tickers = df_returns.columns[1:]\n",
    "r = np.array([])\n",
    "mean_return_s = {}\n",
    "for stock in tickers:\n",
    "    mean = df_returns.select(pl.col(stock)).mean().item()\n",
    "    mean_return_s[stock] = mean\n",
    "    r = np.append(r, mean)\n",
    "\n",
    "np.set_printoptions(suppress=True, precision=10)"
   ]
  },
  {
   "cell_type": "code",
   "execution_count": null,
   "id": "d08fc698",
   "metadata": {},
   "outputs": [],
   "source": [
    "from numpy.typing import NDArray\n",
    "\n",
    "\n",
    "def utility(x: NDArray, r: NDArray, Sigma: NDArray, tol: int):\n",
    "    if tol == 0:  # Min variance: minimize x^T Sigma x / 2 (ignore returns)\n",
    "        return 0.5 * x.T @ Sigma @ x\n",
    "    else:\n",
    "        risk_aversion = 0.5 * (1 / tol)\n",
    "        return - (x.T @ r - risk_aversion * x.T @ Sigma @ x)  # Minimize -U to maximize U"
   ]
  },
  {
   "cell_type": "code",
   "execution_count": null,
   "id": "f33e2e5b",
   "metadata": {},
   "outputs": [
    {
     "name": "stdout",
     "output_type": "stream",
     "text": [
      "Tol=0: Optimal x = [0.0250655174 0.0272048883 0.025046349  0.0250889572 0.0252188492\n",
      " 0.0250554566 0.1190153656 0.0250438886 0.0251287188 0.0256566161\n",
      " 0.1671188139 0.025072244  0.0254533846 0.0254121359 0.0803444707\n",
      " 0.2284278534 0.0251878382 0.0251068221 0.0250782062 0.0252736242], Utility = -0.0007701573431978998\n",
      "Tol=1: Optimal x = [0.525 0.025 0.025 0.025 0.025 0.025 0.025 0.025 0.025 0.025 0.025 0.025\n",
      " 0.025 0.025 0.025 0.025 0.025 0.025 0.025 0.025], Utility = 0.019919753947638903\n",
      "Tol=2: Optimal x = [0.525 0.025 0.025 0.025 0.025 0.025 0.025 0.025 0.025 0.025 0.025 0.025\n",
      " 0.025 0.025 0.025 0.025 0.025 0.025 0.025 0.025], Utility = 0.020988374543263952\n"
     ]
    },
    {
     "name": "stderr",
     "output_type": "stream",
     "text": [
      "/home/rickhonda/uni/finc3017/portfolio-analysis-finc3017/.venv/lib/python3.13/site-packages/scipy/optimize/_differentiable_functions.py:728: UserWarning: delta_grad == 0.0. Check if the approximated function is linear. If the function is linear better results can be obtained by defining the Hessian as zero instead of using quasi-Newton approximations.\n",
      "  self.H.update(delta_x, delta_g)\n"
     ]
    }
   ],
   "source": [
    "constraints = [{'type': 'eq', 'fun': lambda x: np.sum(x) - 1}]  # Sum x = 1\n",
    "bounds = [(0.025, None)] * 20  # x_i >= 0.025, no upper bound\n",
    "\n",
    "# For each Tol\n",
    "for tol in [0, 1, 2]:\n",
    "    initial_points = [np.ones(20)/20, np.random.dirichlet(np.ones(20)) * 0.95 + 0.025/20]  # Two starting points: uniform and random (adjusted for bounds)\n",
    "    \n",
    "    for i, x0 in enumerate(initial_points):\n",
    "        if tol == 0:\n",
    "            # Min variance: minimize quadratic variance\n",
    "            res = minimize(lambda x: utility(x, r, Sigma, tol=0), x0=x0,\n",
    "                           method='trust-constr', bounds=bounds, constraints=constraints)\n",
    "        else:\n",
    "            res = minimize(lambda x: utility(x, r, Sigma, tol), x0=x0,\n",
    "                           method='SLSQP', bounds=bounds, constraints=constraints)\n",
    "        print(f\"Tol={tol}, Start {i+1}: Optimal x = {res.x}, Utility = {-res.fun if tol > 0 else -res.fun}, Success: {res.success}\")\n"
   ]
  }
 ],
 "metadata": {
  "kernelspec": {
   "display_name": ".venv",
   "language": "python",
   "name": "python3"
  },
  "language_info": {
   "codemirror_mode": {
    "name": "ipython",
    "version": 3
   },
   "file_extension": ".py",
   "mimetype": "text/x-python",
   "name": "python",
   "nbconvert_exporter": "python",
   "pygments_lexer": "ipython3",
   "version": "3.13.5"
  }
 },
 "nbformat": 4,
 "nbformat_minor": 5
}
